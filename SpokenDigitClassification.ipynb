{
 "cells": [
  {
   "cell_type": "code",
   "execution_count": 4,
   "metadata": {
    "id": "SiaYfPFN63j0"
   },
   "outputs": [],
   "source": [
    "import numpy as np\n",
    "import pandas as pd\n",
    "import librosa.display\n",
    "import librosa\n",
    "import IPython.display as ipd\n",
    "import matplotlib.pyplot as plt\n",
    "import os\n",
    "from sklearn import metrics\n",
    "from sklearn.svm import SVC\n",
    "from sklearn.ensemble import RandomForestClassifier\n",
    "from sklearn.neighbors import KNeighborsClassifier\n",
    "from sklearn.model_selection import train_test_split\n",
    "from sklearn.model_selection import cross_val_score\n",
    "from sklearn.metrics import classification_report, accuracy_score"
   ]
  },
  {
   "cell_type": "code",
   "execution_count": 2,
   "metadata": {},
   "outputs": [
    {
     "name": "stdout",
     "output_type": "stream",
     "text": [
      "Requirement already satisfied: librosa in c:\\users\\kkvam\\anaconda3\\envs\\notebook-7.0.8\\lib\\site-packages (0.10.2.post1)\n",
      "Requirement already satisfied: audioread>=2.1.9 in c:\\users\\kkvam\\anaconda3\\envs\\notebook-7.0.8\\lib\\site-packages (from librosa) (3.0.1)\n",
      "Requirement already satisfied: numpy!=1.22.0,!=1.22.1,!=1.22.2,>=1.20.3 in c:\\users\\kkvam\\anaconda3\\envs\\notebook-7.0.8\\lib\\site-packages (from librosa) (1.26.4)\n",
      "Requirement already satisfied: scipy>=1.2.0 in c:\\users\\kkvam\\anaconda3\\envs\\notebook-7.0.8\\lib\\site-packages (from librosa) (1.14.0)\n",
      "Requirement already satisfied: scikit-learn>=0.20.0 in c:\\users\\kkvam\\anaconda3\\envs\\notebook-7.0.8\\lib\\site-packages (from librosa) (1.5.1)\n",
      "Requirement already satisfied: joblib>=0.14 in c:\\users\\kkvam\\anaconda3\\envs\\notebook-7.0.8\\lib\\site-packages (from librosa) (1.4.2)\n",
      "Requirement already satisfied: decorator>=4.3.0 in c:\\users\\kkvam\\anaconda3\\envs\\notebook-7.0.8\\lib\\site-packages (from librosa) (5.1.1)\n",
      "Requirement already satisfied: numba>=0.51.0 in c:\\users\\kkvam\\anaconda3\\envs\\notebook-7.0.8\\lib\\site-packages (from librosa) (0.60.0)\n",
      "Requirement already satisfied: soundfile>=0.12.1 in c:\\users\\kkvam\\anaconda3\\envs\\notebook-7.0.8\\lib\\site-packages (from librosa) (0.12.1)\n",
      "Requirement already satisfied: pooch>=1.1 in c:\\users\\kkvam\\anaconda3\\envs\\notebook-7.0.8\\lib\\site-packages (from librosa) (1.8.2)\n",
      "Requirement already satisfied: soxr>=0.3.2 in c:\\users\\kkvam\\anaconda3\\envs\\notebook-7.0.8\\lib\\site-packages (from librosa) (0.4.0)\n",
      "Requirement already satisfied: typing-extensions>=4.1.1 in c:\\users\\kkvam\\anaconda3\\envs\\notebook-7.0.8\\lib\\site-packages (from librosa) (4.11.0)\n",
      "Requirement already satisfied: lazy-loader>=0.1 in c:\\users\\kkvam\\anaconda3\\envs\\notebook-7.0.8\\lib\\site-packages (from librosa) (0.4)\n",
      "Requirement already satisfied: msgpack>=1.0 in c:\\users\\kkvam\\anaconda3\\envs\\notebook-7.0.8\\lib\\site-packages (from librosa) (1.0.8)\n",
      "Requirement already satisfied: packaging in c:\\users\\kkvam\\anaconda3\\envs\\notebook-7.0.8\\lib\\site-packages (from lazy-loader>=0.1->librosa) (24.1)\n",
      "Requirement already satisfied: llvmlite<0.44,>=0.43.0dev0 in c:\\users\\kkvam\\anaconda3\\envs\\notebook-7.0.8\\lib\\site-packages (from numba>=0.51.0->librosa) (0.43.0)\n",
      "Requirement already satisfied: platformdirs>=2.5.0 in c:\\users\\kkvam\\anaconda3\\envs\\notebook-7.0.8\\lib\\site-packages (from pooch>=1.1->librosa) (3.10.0)\n",
      "Requirement already satisfied: requests>=2.19.0 in c:\\users\\kkvam\\anaconda3\\envs\\notebook-7.0.8\\lib\\site-packages (from pooch>=1.1->librosa) (2.32.3)\n",
      "Requirement already satisfied: threadpoolctl>=3.1.0 in c:\\users\\kkvam\\anaconda3\\envs\\notebook-7.0.8\\lib\\site-packages (from scikit-learn>=0.20.0->librosa) (3.5.0)\n",
      "Requirement already satisfied: cffi>=1.0 in c:\\users\\kkvam\\anaconda3\\envs\\notebook-7.0.8\\lib\\site-packages (from soundfile>=0.12.1->librosa) (1.16.0)\n",
      "Requirement already satisfied: pycparser in c:\\users\\kkvam\\anaconda3\\envs\\notebook-7.0.8\\lib\\site-packages (from cffi>=1.0->soundfile>=0.12.1->librosa) (2.21)\n",
      "Requirement already satisfied: charset-normalizer<4,>=2 in c:\\users\\kkvam\\anaconda3\\envs\\notebook-7.0.8\\lib\\site-packages (from requests>=2.19.0->pooch>=1.1->librosa) (3.3.2)\n",
      "Requirement already satisfied: idna<4,>=2.5 in c:\\users\\kkvam\\anaconda3\\envs\\notebook-7.0.8\\lib\\site-packages (from requests>=2.19.0->pooch>=1.1->librosa) (3.7)\n",
      "Requirement already satisfied: urllib3<3,>=1.21.1 in c:\\users\\kkvam\\anaconda3\\envs\\notebook-7.0.8\\lib\\site-packages (from requests>=2.19.0->pooch>=1.1->librosa) (2.2.2)\n",
      "Requirement already satisfied: certifi>=2017.4.17 in c:\\users\\kkvam\\anaconda3\\envs\\notebook-7.0.8\\lib\\site-packages (from requests>=2.19.0->pooch>=1.1->librosa) (2024.8.30)\n",
      "Note: you may need to restart the kernel to use updated packages.\n"
     ]
    },
    {
     "name": "stderr",
     "output_type": "stream",
     "text": [
      "\n",
      "[notice] A new release of pip is available: 24.3 -> 24.3.1\n",
      "[notice] To update, run: python.exe -m pip install --upgrade pip\n"
     ]
    }
   ],
   "source": [
    "pip install librosa"
   ]
  },
  {
   "cell_type": "code",
   "execution_count": 1,
   "metadata": {},
   "outputs": [],
   "source": [
    "import numpy as np\n",
    "import pandas as pd\n",
    "import librosa.display\n",
    "import librosa\n",
    "import IPython.display as ipd\n",
    "import matplotlib.pyplot as plt\n",
    "import os\n",
    "from sklearn import metrics\n",
    "from sklearn.svm import SVC\n",
    "from sklearn.ensemble import RandomForestClassifier\n",
    "from sklearn.neighbors import KNeighborsClassifier\n",
    "from sklearn.model_selection import train_test_split\n",
    "from sklearn.model_selection import cross_val_score\n",
    "from sklearn.metrics import classification_report, accuracy_score"
   ]
  },
  {
   "cell_type": "code",
   "execution_count": 2,
   "metadata": {
    "colab": {
     "base_uri": "https://localhost:8080/"
    },
    "id": "tVo0NrET7Je5",
    "outputId": "74a73d59-d8b7-45c5-9751-f747f27f03a2"
   },
   "outputs": [
    {
     "name": "stderr",
     "output_type": "stream",
     "text": [
      "Cloning into 'free-spoken-digit-dataset'...\n",
      "Updating files:  18% (550/3014)\n",
      "Updating files:  19% (573/3014)\n",
      "Updating files:  20% (603/3014)\n",
      "Updating files:  21% (633/3014)\n",
      "Updating files:  22% (664/3014)\n",
      "Updating files:  23% (694/3014)\n",
      "Updating files:  24% (724/3014)\n",
      "Updating files:  25% (754/3014)\n",
      "Updating files:  26% (784/3014)\n",
      "Updating files:  27% (814/3014)\n",
      "Updating files:  28% (844/3014)\n",
      "Updating files:  29% (875/3014)\n",
      "Updating files:  30% (905/3014)\n",
      "Updating files:  31% (935/3014)\n",
      "Updating files:  32% (965/3014)\n",
      "Updating files:  33% (995/3014)\n",
      "Updating files:  34% (1025/3014)\n",
      "Updating files:  35% (1055/3014)\n",
      "Updating files:  36% (1086/3014)\n",
      "Updating files:  36% (1087/3014)\n",
      "Updating files:  37% (1116/3014)\n",
      "Updating files:  38% (1146/3014)\n",
      "Updating files:  39% (1176/3014)\n",
      "Updating files:  40% (1206/3014)\n",
      "Updating files:  41% (1236/3014)\n",
      "Updating files:  42% (1266/3014)\n",
      "Updating files:  43% (1297/3014)\n",
      "Updating files:  44% (1327/3014)\n",
      "Updating files:  45% (1357/3014)\n",
      "Updating files:  46% (1387/3014)\n",
      "Updating files:  47% (1417/3014)\n",
      "Updating files:  48% (1447/3014)\n",
      "Updating files:  49% (1477/3014)\n",
      "Updating files:  50% (1507/3014)\n",
      "Updating files:  51% (1538/3014)\n",
      "Updating files:  52% (1568/3014)\n",
      "Updating files:  53% (1598/3014)\n",
      "Updating files:  54% (1628/3014)\n",
      "Updating files:  54% (1639/3014)\n",
      "Updating files:  55% (1658/3014)\n",
      "Updating files:  56% (1688/3014)\n",
      "Updating files:  57% (1718/3014)\n",
      "Updating files:  58% (1749/3014)\n",
      "Updating files:  59% (1779/3014)\n",
      "Updating files:  60% (1809/3014)\n",
      "Updating files:  61% (1839/3014)\n",
      "Updating files:  62% (1869/3014)\n",
      "Updating files:  63% (1899/3014)\n",
      "Updating files:  64% (1929/3014)\n",
      "Updating files:  65% (1960/3014)\n",
      "Updating files:  66% (1990/3014)\n",
      "Updating files:  67% (2020/3014)\n",
      "Updating files:  68% (2050/3014)\n",
      "Updating files:  69% (2080/3014)\n",
      "Updating files:  70% (2110/3014)\n",
      "Updating files:  71% (2140/3014)\n",
      "Updating files:  72% (2171/3014)\n",
      "Updating files:  73% (2201/3014)\n",
      "Updating files:  74% (2231/3014)\n",
      "Updating files:  74% (2246/3014)\n",
      "Updating files:  75% (2261/3014)\n",
      "Updating files:  76% (2291/3014)\n",
      "Updating files:  77% (2321/3014)\n",
      "Updating files:  78% (2351/3014)\n",
      "Updating files:  79% (2382/3014)\n",
      "Updating files:  80% (2412/3014)\n",
      "Updating files:  81% (2442/3014)\n",
      "Updating files:  82% (2472/3014)\n",
      "Updating files:  83% (2502/3014)\n",
      "Updating files:  84% (2532/3014)\n",
      "Updating files:  85% (2562/3014)\n",
      "Updating files:  86% (2593/3014)\n",
      "Updating files:  87% (2623/3014)\n",
      "Updating files:  88% (2653/3014)\n",
      "Updating files:  89% (2683/3014)\n",
      "Updating files:  90% (2713/3014)\n",
      "Updating files:  91% (2743/3014)\n",
      "Updating files:  92% (2773/3014)\n",
      "Updating files:  93% (2804/3014)\n",
      "Updating files:  94% (2834/3014)\n",
      "Updating files:  94% (2850/3014)\n",
      "Updating files:  95% (2864/3014)\n",
      "Updating files:  96% (2894/3014)\n",
      "Updating files:  97% (2924/3014)\n",
      "Updating files:  98% (2954/3014)\n",
      "Updating files:  99% (2984/3014)\n",
      "Updating files: 100% (3014/3014)\n",
      "Updating files: 100% (3014/3014), done.\n"
     ]
    }
   ],
   "source": [
    "!git clone https://github.com/Jakobovski/free-spoken-digit-dataset.git"
   ]
  },
  {
   "cell_type": "code",
   "execution_count": null,
   "metadata": {},
   "outputs": [],
   "source": [
    "n_mfcc = 20   # number of MFCC we will use\n",
    "freq = 16000   # sampling rate\n",
    "\n",
    "#getting the list of files from the local repository\n",
    "from pathlib import Path\n",
    "\n",
    "path_to_audio_folder = Path(\"free-spoken-digit-dataset/recordings\")\n",
    "audiofiles = [str(file) for file in path_to_audio_folder.glob('*.wav')]\n",
    "\n",
    "# creating a dictionary to store data\n",
    "data = {'mfcc':[], 'labels':[]}\n",
    "\n",
    "for i, file in enumerate(audiofiles):\n",
    "    fileid = Path(file).name  \n",
    "    label  = fileid.split('_')[0]\n",
    "    data[\"labels\"].append(label)\n",
    "\n",
    "    audio, sr = librosa.load(file, sr=freq)\n",
    "    mfcc = librosa.feature.mfcc(y=audio, sr=freq, n_fft=512, n_mfcc=n_mfcc)\n",
    "    feature_vector = np.mean(mfcc, axis=1)\n",
    "    data[\"mfcc\"].append(feature_vector)\n"
   ]
  },
  {
   "cell_type": "code",
   "execution_count": null,
   "metadata": {
    "colab": {
     "base_uri": "https://localhost:8080/"
    },
    "id": "shIop6y37YCF",
    "outputId": "60762778-8ba1-4c3b-820b-889c12718f20"
   },
   "outputs": [
    {
     "name": "stdout",
     "output_type": "stream",
     "text": [
      "Got 3000 rows of data\n",
      "Dimension of vector of labels is: (3000,)\n",
      "Dimension of matrix of feautures is: (3000, 20)\n"
     ]
    }
   ],
   "source": [
    "# verify that we got all the 3000 audio files\n",
    "print('Got {} rows of data'.format(len(data['mfcc'])))\n",
    "\n",
    "# we create the flattened matrix of MFCCs -->  go from a list of arrays to a 2D matrix\n",
    "MFCC_matrix =np.asarray( data['mfcc'])\n",
    "\n",
    "# ...same for the labels vector\n",
    "LABELS_vector = np.asarray(data[\"labels\"])\n",
    "\n",
    "print('Dimension of vector of labels is: {}'.format(LABELS_vector.shape))\n",
    "print('Dimension of matrix of feautures is: {}'.format(MFCC_matrix.shape))"
   ]
  },
  {
   "cell_type": "code",
   "execution_count": 10,
   "metadata": {
    "colab": {
     "base_uri": "https://localhost:8080/",
     "height": 75
    },
    "id": "PGgGhu3F7cZm",
    "outputId": "78940fcb-8c31-41cf-8a2e-8de37f4bf894"
   },
   "outputs": [
    {
     "data": {
      "text/html": [
       "\n",
       "                <audio  controls=\"controls\" >\n",
       "                    <source src=\"data:audio/wav;base64,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\" type=\"audio/wav\" />\n",
       "                    Your browser does not support the audio element.\n",
       "                </audio>\n",
       "              "
      ],
      "text/plain": [
       "<IPython.lib.display.Audio object>"
      ]
     },
     "execution_count": 10,
     "metadata": {},
     "output_type": "execute_result"
    }
   ],
   "source": [
    "ipd.Audio(audio, rate=sr)"
   ]
  },
  {
   "cell_type": "code",
   "execution_count": null,
   "metadata": {
    "colab": {
     "base_uri": "https://localhost:8080/",
     "height": 472
    },
    "id": "A9IUNy4-7jNO",
    "outputId": "25e986aa-bb1f-4dbb-e4bd-2e6f7005e6b3"
   },
   "outputs": [
    {
     "data": {
      "image/png": "[encoded data removed]",
      "text/plain": [
       "<Figure size 640x480 with 2 Axes>"
      ]
     },
     "metadata": {},
     "output_type": "display_data"
    }
   ],
   "source": [
    "# we check the MFCC heatmap for the last audio file\n",
    "librosa.display.specshow(mfcc,x_axis = 'time',sr=sr)\n",
    "plt.title('MFCC heatmap for {}'.format(file))\n",
    "plt.xlabel('Time')\n",
    "plt.ylabel('MFCCs')\n",
    "plt.colorbar()\n",
    "plt.show()"
   ]
  },
  {
   "cell_type": "code",
   "execution_count": 12,
   "metadata": {
    "id": "COueTP1F7ldv"
   },
   "outputs": [],
   "source": [
    "svm = SVC()                                  # initialize SVM\n",
    "rf = RandomForestClassifier(n_jobs=2)        # initialize Random Forest\n",
    "knn = KNeighborsClassifier()                 # initialize KNN"
   ]
  },
  {
   "cell_type": "code",
   "execution_count": 13,
   "metadata": {
    "colab": {
     "base_uri": "https://localhost:8080/"
    },
    "id": "KR45cM747ruZ",
    "outputId": "c5887398-16af-44c5-89c7-f05c419f7db3"
   },
   "outputs": [
    {
     "name": "stdout",
     "output_type": "stream",
     "text": [
      "The accuracy for the SVM is 0.5246666666666666\n"
     ]
    }
   ],
   "source": [
    "# support vector\n",
    "print('The accuracy for the SVM is {}'.\n",
    "      format(cross_val_score(svm, MFCC_matrix, LABELS_vector, cv=10, scoring='accuracy').mean()))"
   ]
  },
  {
   "cell_type": "code",
   "execution_count": 14,
   "metadata": {
    "colab": {
     "base_uri": "https://localhost:8080/"
    },
    "id": "83cgFSIE7yhV",
    "outputId": "9551b2b4-6f7e-4271-fa5f-52389c7db33e"
   },
   "outputs": [
    {
     "name": "stdout",
     "output_type": "stream",
     "text": [
      "The accuracy for the Random Forest is 0.909\n"
     ]
    }
   ],
   "source": [
    "# random forest\n",
    "print('The accuracy for the Random Forest is {}'.\n",
    "      format(cross_val_score(rf, MFCC_matrix, LABELS_vector, cv=10, scoring='accuracy').mean()))"
   ]
  },
  {
   "cell_type": "code",
   "execution_count": 15,
   "metadata": {
    "colab": {
     "base_uri": "https://localhost:8080/"
    },
    "id": "R0Q7qiPP78DS",
    "outputId": "0e682432-8ddc-4e6d-aaa6-eb8c00dcc8c9"
   },
   "outputs": [
    {
     "name": "stdout",
     "output_type": "stream",
     "text": [
      "The accuracy for the KNN is 0.8733333333333334\n"
     ]
    }
   ],
   "source": [
    "# kNN\n",
    "print('The accuracy for the KNN is {}'.\n",
    "      format(cross_val_score(knn, MFCC_matrix, LABELS_vector, cv=10, scoring='accuracy').mean()))"
   ]
  },
  {
   "cell_type": "code",
   "execution_count": null,
   "metadata": {
    "id": "NMEiZZTX8BK1"
   },
   "outputs": [],
   "source": [
    "\n",
    "y = LABELS_vector\n",
    "X = MFCC_matrix\n",
    "\n",
    "# splitting\n",
    "X_train, X_test, y_train, y_test = train_test_split(X,y, random_state=1, test_size=0.2, stratify=y)\n",
    "\n",
    "\n",
    "from sklearn.preprocessing import StandardScaler\n",
    "sc = StandardScaler()\n",
    "X_train = sc.fit_transform(X_train)\n",
    "X_test = sc.fit_transform(X_test)"
   ]
  },
  {
   "cell_type": "code",
   "execution_count": 17,
   "metadata": {
    "colab": {
     "base_uri": "https://localhost:8080/"
    },
    "id": "rC6wc4TA8DZg",
    "outputId": "09543296-f7a8-4c96-fa10-af9cb5865460"
   },
   "outputs": [
    {
     "data": {
      "text/plain": [
       "{'0': 240,\n",
       " '1': 240,\n",
       " '2': 240,\n",
       " '3': 240,\n",
       " '4': 240,\n",
       " '5': 240,\n",
       " '6': 240,\n",
       " '7': 240,\n",
       " '8': 240,\n",
       " '9': 240}"
      ]
     },
     "execution_count": 17,
     "metadata": {},
     "output_type": "execute_result"
    }
   ],
   "source": [
    "# Check how the test sample are the same number for each digit\n",
    "unique, counts = np.unique(y_train, return_counts=True)\n",
    "dict(zip(unique, counts))"
   ]
  },
  {
   "cell_type": "code",
   "execution_count": 20,
   "metadata": {
    "id": "6Fsx6HDR8KZN"
   },
   "outputs": [],
   "source": [
    "from sklearn.model_selection import RandomizedSearchCV\n",
    "\n",
    "# Number of trees in random forest\n",
    "n_estimators = [200, 400, 600, 800, 1000, 1200, 1400, 1600, 1800, 2000]\n",
    "\n",
    "# Number of features to consider at every split\n",
    "max_features = ['auto', 'sqrt']\n",
    "\n",
    "# Maximum number of levels in tree\n",
    "max_depth = [10, 20, 30, 40, 50, 60, 70, 80, 90, 100, None]\n",
    "\n",
    "# Minimum number of samples required to split a node\n",
    "min_samples_split = [2, 5, 10]\n",
    "\n",
    "# Minimum number of samples required at each leaf node\n",
    "min_samples_leaf = [1, 2, 4]\n",
    "\n",
    "# Method of selecting samples for training each tree\n",
    "bootstrap = [True, False]\n",
    "\n",
    "\n",
    "# Create the random grid\n",
    "random_grid = {\n",
    "    'n_estimators': n_estimators,\n",
    "    'max_features': ['sqrt', 'log2'],   # fixed here\n",
    "    'max_depth': max_depth,\n",
    "    'min_samples_split': min_samples_split,\n",
    "    'min_samples_leaf': min_samples_leaf,\n",
    "    'bootstrap': bootstrap\n",
    "}\n"
   ]
  },
  {
   "cell_type": "code",
   "execution_count": 21,
   "metadata": {
    "colab": {
     "base_uri": "https://localhost:8080/",
     "height": 191
    },
    "id": "Ul1TXDux8MqW",
    "outputId": "f2ec6eb8-04f4-4913-c95b-ffe8ed4e9e27"
   },
   "outputs": [
    {
     "name": "stdout",
     "output_type": "stream",
     "text": [
      "Fitting 3 folds for each of 10 candidates, totalling 30 fits\n"
     ]
    },
    {
     "data": {
      "text/html": [
       "<style>#sk-container-id-2 {\n",
       "  /* Definition of color scheme common for light and dark mode */\n",
       "  --sklearn-color-text: black;\n",
       "  --sklearn-color-line: gray;\n",
       "  /* Definition of color scheme for unfitted estimators */\n",
       "  --sklearn-color-unfitted-level-0: #fff5e6;\n",
       "  --sklearn-color-unfitted-level-1: #f6e4d2;\n",
       "  --sklearn-color-unfitted-level-2: #ffe0b3;\n",
       "  --sklearn-color-unfitted-level-3: chocolate;\n",
       "  /* Definition of color scheme for fitted estimators */\n",
       "  --sklearn-color-fitted-level-0: #f0f8ff;\n",
       "  --sklearn-color-fitted-level-1: #d4ebff;\n",
       "  --sklearn-color-fitted-level-2: #b3dbfd;\n",
       "  --sklearn-color-fitted-level-3: cornflowerblue;\n",
       "\n",
       "  /* Specific color for light theme */\n",
       "  --sklearn-color-text-on-default-background: var(--sg-text-color, var(--theme-code-foreground, var(--jp-content-font-color1, black)));\n",
       "  --sklearn-color-background: var(--sg-background-color, var(--theme-background, var(--jp-layout-color0, white)));\n",
       "  --sklearn-color-border-box: var(--sg-text-color, var(--theme-code-foreground, var(--jp-content-font-color1, black)));\n",
       "  --sklearn-color-icon: #696969;\n",
       "\n",
       "  @media (prefers-color-scheme: dark) {\n",
       "    /* Redefinition of color scheme for dark theme */\n",
       "    --sklearn-color-text-on-default-background: var(--sg-text-color, var(--theme-code-foreground, var(--jp-content-font-color1, white)));\n",
       "    --sklearn-color-background: var(--sg-background-color, var(--theme-background, var(--jp-layout-color0, #111)));\n",
       "    --sklearn-color-border-box: var(--sg-text-color, var(--theme-code-foreground, var(--jp-content-font-color1, white)));\n",
       "    --sklearn-color-icon: #878787;\n",
       "  }\n",
       "}\n",
       "\n",
       "#sk-container-id-2 {\n",
       "  color: var(--sklearn-color-text);\n",
       "}\n",
       "\n",
       "#sk-container-id-2 pre {\n",
       "  padding: 0;\n",
       "}\n",
       "\n",
       "#sk-container-id-2 input.sk-hidden--visually {\n",
       "  border: 0;\n",
       "  clip: rect(1px 1px 1px 1px);\n",
       "  clip: rect(1px, 1px, 1px, 1px);\n",
       "  height: 1px;\n",
       "  margin: -1px;\n",
       "  overflow: hidden;\n",
       "  padding: 0;\n",
       "  position: absolute;\n",
       "  width: 1px;\n",
       "}\n",
       "\n",
       "#sk-container-id-2 div.sk-dashed-wrapped {\n",
       "  border: 1px dashed var(--sklearn-color-line);\n",
       "  margin: 0 0.4em 0.5em 0.4em;\n",
       "  box-sizing: border-box;\n",
       "  padding-bottom: 0.4em;\n",
       "  background-color: var(--sklearn-color-background);\n",
       "}\n",
       "\n",
       "#sk-container-id-2 div.sk-container {\n",
       "  /* jupyter's `normalize.less` sets `[hidden] { display: none; }`\n",
       "     but bootstrap.min.css set `[hidden] { display: none !important; }`\n",
       "     so we also need the `!important` here to be able to override the\n",
       "     default hidden behavior on the sphinx rendered scikit-learn.org.\n",
       "     See: https://github.com/scikit-learn/scikit-learn/issues/21755 */\n",
       "  display: inline-block !important;\n",
       "  position: relative;\n",
       "}\n",
       "\n",
       "#sk-container-id-2 div.sk-text-repr-fallback {\n",
       "  display: none;\n",
       "}\n",
       "\n",
       "div.sk-parallel-item,\n",
       "div.sk-serial,\n",
       "div.sk-item {\n",
       "  /* draw centered vertical line to link estimators */\n",
       "  background-image: linear-gradient(var(--sklearn-color-text-on-default-background), var(--sklearn-color-text-on-default-background));\n",
       "  background-size: 2px 100%;\n",
       "  background-repeat: no-repeat;\n",
       "  background-position: center center;\n",
       "}\n",
       "\n",
       "/* Parallel-specific style estimator block */\n",
       "\n",
       "#sk-container-id-2 div.sk-parallel-item::after {\n",
       "  content: \"\";\n",
       "  width: 100%;\n",
       "  border-bottom: 2px solid var(--sklearn-color-text-on-default-background);\n",
       "  flex-grow: 1;\n",
       "}\n",
       "\n",
       "#sk-container-id-2 div.sk-parallel {\n",
       "  display: flex;\n",
       "  align-items: stretch;\n",
       "  justify-content: center;\n",
       "  background-color: var(--sklearn-color-background);\n",
       "  position: relative;\n",
       "}\n",
       "\n",
       "#sk-container-id-2 div.sk-parallel-item {\n",
       "  display: flex;\n",
       "  flex-direction: column;\n",
       "}\n",
       "\n",
       "#sk-container-id-2 div.sk-parallel-item:first-child::after {\n",
       "  align-self: flex-end;\n",
       "  width: 50%;\n",
       "}\n",
       "\n",
       "#sk-container-id-2 div.sk-parallel-item:last-child::after {\n",
       "  align-self: flex-start;\n",
       "  width: 50%;\n",
       "}\n",
       "\n",
       "#sk-container-id-2 div.sk-parallel-item:only-child::after {\n",
       "  width: 0;\n",
       "}\n",
       "\n",
       "/* Serial-specific style estimator block */\n",
       "\n",
       "#sk-container-id-2 div.sk-serial {\n",
       "  display: flex;\n",
       "  flex-direction: column;\n",
       "  align-items: center;\n",
       "  background-color: var(--sklearn-color-background);\n",
       "  padding-right: 1em;\n",
       "  padding-left: 1em;\n",
       "}\n",
       "\n",
       "\n",
       "/* Toggleable style: style used for estimator/Pipeline/ColumnTransformer box that is\n",
       "clickable and can be expanded/collapsed.\n",
       "- Pipeline and ColumnTransformer use this feature and define the default style\n",
       "- Estimators will overwrite some part of the style using the `sk-estimator` class\n",
       "*/\n",
       "\n",
       "/* Pipeline and ColumnTransformer style (default) */\n",
       "\n",
       "#sk-container-id-2 div.sk-toggleable {\n",
       "  /* Default theme specific background. It is overwritten whether we have a\n",
       "  specific estimator or a Pipeline/ColumnTransformer */\n",
       "  background-color: var(--sklearn-color-background);\n",
       "}\n",
       "\n",
       "/* Toggleable label */\n",
       "#sk-container-id-2 label.sk-toggleable__label {\n",
       "  cursor: pointer;\n",
       "  display: block;\n",
       "  width: 100%;\n",
       "  margin-bottom: 0;\n",
       "  padding: 0.5em;\n",
       "  box-sizing: border-box;\n",
       "  text-align: center;\n",
       "}\n",
       "\n",
       "#sk-container-id-2 label.sk-toggleable__label-arrow:before {\n",
       "  /* Arrow on the left of the label */\n",
       "  content: \"▸\";\n",
       "  float: left;\n",
       "  margin-right: 0.25em;\n",
       "  color: var(--sklearn-color-icon);\n",
       "}\n",
       "\n",
       "#sk-container-id-2 label.sk-toggleable__label-arrow:hover:before {\n",
       "  color: var(--sklearn-color-text);\n",
       "}\n",
       "\n",
       "/* Toggleable content - dropdown */\n",
       "\n",
       "#sk-container-id-2 div.sk-toggleable__content {\n",
       "  max-height: 0;\n",
       "  max-width: 0;\n",
       "  overflow: hidden;\n",
       "  text-align: left;\n",
       "  /* unfitted */\n",
       "  background-color: var(--sklearn-color-unfitted-level-0);\n",
       "}\n",
       "\n",
       "#sk-container-id-2 div.sk-toggleable__content.fitted {\n",
       "  /* fitted */\n",
       "  background-color: var(--sklearn-color-fitted-level-0);\n",
       "}\n",
       "\n",
       "#sk-container-id-2 div.sk-toggleable__content pre {\n",
       "  margin: 0.2em;\n",
       "  border-radius: 0.25em;\n",
       "  color: var(--sklearn-color-text);\n",
       "  /* unfitted */\n",
       "  background-color: var(--sklearn-color-unfitted-level-0);\n",
       "}\n",
       "\n",
       "#sk-container-id-2 div.sk-toggleable__content.fitted pre {\n",
       "  /* unfitted */\n",
       "  background-color: var(--sklearn-color-fitted-level-0);\n",
       "}\n",
       "\n",
       "#sk-container-id-2 input.sk-toggleable__control:checked~div.sk-toggleable__content {\n",
       "  /* Expand drop-down */\n",
       "  max-height: 200px;\n",
       "  max-width: 100%;\n",
       "  overflow: auto;\n",
       "}\n",
       "\n",
       "#sk-container-id-2 input.sk-toggleable__control:checked~label.sk-toggleable__label-arrow:before {\n",
       "  content: \"▾\";\n",
       "}\n",
       "\n",
       "/* Pipeline/ColumnTransformer-specific style */\n",
       "\n",
       "#sk-container-id-2 div.sk-label input.sk-toggleable__control:checked~label.sk-toggleable__label {\n",
       "  color: var(--sklearn-color-text);\n",
       "  background-color: var(--sklearn-color-unfitted-level-2);\n",
       "}\n",
       "\n",
       "#sk-container-id-2 div.sk-label.fitted input.sk-toggleable__control:checked~label.sk-toggleable__label {\n",
       "  background-color: var(--sklearn-color-fitted-level-2);\n",
       "}\n",
       "\n",
       "/* Estimator-specific style */\n",
       "\n",
       "/* Colorize estimator box */\n",
       "#sk-container-id-2 div.sk-estimator input.sk-toggleable__control:checked~label.sk-toggleable__label {\n",
       "  /* unfitted */\n",
       "  background-color: var(--sklearn-color-unfitted-level-2);\n",
       "}\n",
       "\n",
       "#sk-container-id-2 div.sk-estimator.fitted input.sk-toggleable__control:checked~label.sk-toggleable__label {\n",
       "  /* fitted */\n",
       "  background-color: var(--sklearn-color-fitted-level-2);\n",
       "}\n",
       "\n",
       "#sk-container-id-2 div.sk-label label.sk-toggleable__label,\n",
       "#sk-container-id-2 div.sk-label label {\n",
       "  /* The background is the default theme color */\n",
       "  color: var(--sklearn-color-text-on-default-background);\n",
       "}\n",
       "\n",
       "/* On hover, darken the color of the background */\n",
       "#sk-container-id-2 div.sk-label:hover label.sk-toggleable__label {\n",
       "  color: var(--sklearn-color-text);\n",
       "  background-color: var(--sklearn-color-unfitted-level-2);\n",
       "}\n",
       "\n",
       "/* Label box, darken color on hover, fitted */\n",
       "#sk-container-id-2 div.sk-label.fitted:hover label.sk-toggleable__label.fitted {\n",
       "  color: var(--sklearn-color-text);\n",
       "  background-color: var(--sklearn-color-fitted-level-2);\n",
       "}\n",
       "\n",
       "/* Estimator label */\n",
       "\n",
       "#sk-container-id-2 div.sk-label label {\n",
       "  font-family: monospace;\n",
       "  font-weight: bold;\n",
       "  display: inline-block;\n",
       "  line-height: 1.2em;\n",
       "}\n",
       "\n",
       "#sk-container-id-2 div.sk-label-container {\n",
       "  text-align: center;\n",
       "}\n",
       "\n",
       "/* Estimator-specific */\n",
       "#sk-container-id-2 div.sk-estimator {\n",
       "  font-family: monospace;\n",
       "  border: 1px dotted var(--sklearn-color-border-box);\n",
       "  border-radius: 0.25em;\n",
       "  box-sizing: border-box;\n",
       "  margin-bottom: 0.5em;\n",
       "  /* unfitted */\n",
       "  background-color: var(--sklearn-color-unfitted-level-0);\n",
       "}\n",
       "\n",
       "#sk-container-id-2 div.sk-estimator.fitted {\n",
       "  /* fitted */\n",
       "  background-color: var(--sklearn-color-fitted-level-0);\n",
       "}\n",
       "\n",
       "/* on hover */\n",
       "#sk-container-id-2 div.sk-estimator:hover {\n",
       "  /* unfitted */\n",
       "  background-color: var(--sklearn-color-unfitted-level-2);\n",
       "}\n",
       "\n",
       "#sk-container-id-2 div.sk-estimator.fitted:hover {\n",
       "  /* fitted */\n",
       "  background-color: var(--sklearn-color-fitted-level-2);\n",
       "}\n",
       "\n",
       "/* Specification for estimator info (e.g. \"i\" and \"?\") */\n",
       "\n",
       "/* Common style for \"i\" and \"?\" */\n",
       "\n",
       ".sk-estimator-doc-link,\n",
       "a:link.sk-estimator-doc-link,\n",
       "a:visited.sk-estimator-doc-link {\n",
       "  float: right;\n",
       "  font-size: smaller;\n",
       "  line-height: 1em;\n",
       "  font-family: monospace;\n",
       "  background-color: var(--sklearn-color-background);\n",
       "  border-radius: 1em;\n",
       "  height: 1em;\n",
       "  width: 1em;\n",
       "  text-decoration: none !important;\n",
       "  margin-left: 1ex;\n",
       "  /* unfitted */\n",
       "  border: var(--sklearn-color-unfitted-level-1) 1pt solid;\n",
       "  color: var(--sklearn-color-unfitted-level-1);\n",
       "}\n",
       "\n",
       ".sk-estimator-doc-link.fitted,\n",
       "a:link.sk-estimator-doc-link.fitted,\n",
       "a:visited.sk-estimator-doc-link.fitted {\n",
       "  /* fitted */\n",
       "  border: var(--sklearn-color-fitted-level-1) 1pt solid;\n",
       "  color: var(--sklearn-color-fitted-level-1);\n",
       "}\n",
       "\n",
       "/* On hover */\n",
       "div.sk-estimator:hover .sk-estimator-doc-link:hover,\n",
       ".sk-estimator-doc-link:hover,\n",
       "div.sk-label-container:hover .sk-estimator-doc-link:hover,\n",
       ".sk-estimator-doc-link:hover {\n",
       "  /* unfitted */\n",
       "  background-color: var(--sklearn-color-unfitted-level-3);\n",
       "  color: var(--sklearn-color-background);\n",
       "  text-decoration: none;\n",
       "}\n",
       "\n",
       "div.sk-estimator.fitted:hover .sk-estimator-doc-link.fitted:hover,\n",
       ".sk-estimator-doc-link.fitted:hover,\n",
       "div.sk-label-container:hover .sk-estimator-doc-link.fitted:hover,\n",
       ".sk-estimator-doc-link.fitted:hover {\n",
       "  /* fitted */\n",
       "  background-color: var(--sklearn-color-fitted-level-3);\n",
       "  color: var(--sklearn-color-background);\n",
       "  text-decoration: none;\n",
       "}\n",
       "\n",
       "/* Span, style for the box shown on hovering the info icon */\n",
       ".sk-estimator-doc-link span {\n",
       "  display: none;\n",
       "  z-index: 9999;\n",
       "  position: relative;\n",
       "  font-weight: normal;\n",
       "  right: .2ex;\n",
       "  padding: .5ex;\n",
       "  margin: .5ex;\n",
       "  width: min-content;\n",
       "  min-width: 20ex;\n",
       "  max-width: 50ex;\n",
       "  color: var(--sklearn-color-text);\n",
       "  box-shadow: 2pt 2pt 4pt #999;\n",
       "  /* unfitted */\n",
       "  background: var(--sklearn-color-unfitted-level-0);\n",
       "  border: .5pt solid var(--sklearn-color-unfitted-level-3);\n",
       "}\n",
       "\n",
       ".sk-estimator-doc-link.fitted span {\n",
       "  /* fitted */\n",
       "  background: var(--sklearn-color-fitted-level-0);\n",
       "  border: var(--sklearn-color-fitted-level-3);\n",
       "}\n",
       "\n",
       ".sk-estimator-doc-link:hover span {\n",
       "  display: block;\n",
       "}\n",
       "\n",
       "/* \"?\"-specific style due to the `<a>` HTML tag */\n",
       "\n",
       "#sk-container-id-2 a.estimator_doc_link {\n",
       "  float: right;\n",
       "  font-size: 1rem;\n",
       "  line-height: 1em;\n",
       "  font-family: monospace;\n",
       "  background-color: var(--sklearn-color-background);\n",
       "  border-radius: 1rem;\n",
       "  height: 1rem;\n",
       "  width: 1rem;\n",
       "  text-decoration: none;\n",
       "  /* unfitted */\n",
       "  color: var(--sklearn-color-unfitted-level-1);\n",
       "  border: var(--sklearn-color-unfitted-level-1) 1pt solid;\n",
       "}\n",
       "\n",
       "#sk-container-id-2 a.estimator_doc_link.fitted {\n",
       "  /* fitted */\n",
       "  border: var(--sklearn-color-fitted-level-1) 1pt solid;\n",
       "  color: var(--sklearn-color-fitted-level-1);\n",
       "}\n",
       "\n",
       "/* On hover */\n",
       "#sk-container-id-2 a.estimator_doc_link:hover {\n",
       "  /* unfitted */\n",
       "  background-color: var(--sklearn-color-unfitted-level-3);\n",
       "  color: var(--sklearn-color-background);\n",
       "  text-decoration: none;\n",
       "}\n",
       "\n",
       "#sk-container-id-2 a.estimator_doc_link.fitted:hover {\n",
       "  /* fitted */\n",
       "  background-color: var(--sklearn-color-fitted-level-3);\n",
       "}\n",
       "</style><div id=\"sk-container-id-2\" class=\"sk-top-container\"><div class=\"sk-text-repr-fallback\"><pre>RandomizedSearchCV(cv=3, estimator=RandomForestClassifier(n_jobs=2), n_jobs=-1,\n",
       "                   param_distributions={&#x27;bootstrap&#x27;: [True, False],\n",
       "                                        &#x27;max_depth&#x27;: [10, 20, 30, 40, 50, 60,\n",
       "                                                      70, 80, 90, 100, None],\n",
       "                                        &#x27;max_features&#x27;: [&#x27;sqrt&#x27;, &#x27;log2&#x27;],\n",
       "                                        &#x27;min_samples_leaf&#x27;: [1, 2, 4],\n",
       "                                        &#x27;min_samples_split&#x27;: [2, 5, 10],\n",
       "                                        &#x27;n_estimators&#x27;: [200, 400, 600, 800,\n",
       "                                                         1000, 1200, 1400, 1600,\n",
       "                                                         1800, 2000]},\n",
       "                   random_state=1, verbose=2)</pre><b>In a Jupyter environment, please rerun this cell to show the HTML representation or trust the notebook. <br />On GitHub, the HTML representation is unable to render, please try loading this page with nbviewer.org.</b></div><div class=\"sk-container\" hidden><div class=\"sk-item sk-dashed-wrapped\"><div class=\"sk-label-container\"><div class=\"sk-label fitted sk-toggleable\"><input class=\"sk-toggleable__control sk-hidden--visually\" id=\"sk-estimator-id-4\" type=\"checkbox\" ><label for=\"sk-estimator-id-4\" class=\"sk-toggleable__label fitted sk-toggleable__label-arrow fitted\">&nbsp;&nbsp;RandomizedSearchCV<a class=\"sk-estimator-doc-link fitted\" rel=\"noreferrer\" target=\"_blank\" href=\"https://scikit-learn.org/1.5/modules/generated/sklearn.model_selection.RandomizedSearchCV.html\">?<span>Documentation for RandomizedSearchCV</span></a><span class=\"sk-estimator-doc-link fitted\">i<span>Fitted</span></span></label><div class=\"sk-toggleable__content fitted\"><pre>RandomizedSearchCV(cv=3, estimator=RandomForestClassifier(n_jobs=2), n_jobs=-1,\n",
       "                   param_distributions={&#x27;bootstrap&#x27;: [True, False],\n",
       "                                        &#x27;max_depth&#x27;: [10, 20, 30, 40, 50, 60,\n",
       "                                                      70, 80, 90, 100, None],\n",
       "                                        &#x27;max_features&#x27;: [&#x27;sqrt&#x27;, &#x27;log2&#x27;],\n",
       "                                        &#x27;min_samples_leaf&#x27;: [1, 2, 4],\n",
       "                                        &#x27;min_samples_split&#x27;: [2, 5, 10],\n",
       "                                        &#x27;n_estimators&#x27;: [200, 400, 600, 800,\n",
       "                                                         1000, 1200, 1400, 1600,\n",
       "                                                         1800, 2000]},\n",
       "                   random_state=1, verbose=2)</pre></div> </div></div><div class=\"sk-parallel\"><div class=\"sk-parallel-item\"><div class=\"sk-item\"><div class=\"sk-label-container\"><div class=\"sk-label fitted sk-toggleable\"><input class=\"sk-toggleable__control sk-hidden--visually\" id=\"sk-estimator-id-5\" type=\"checkbox\" ><label for=\"sk-estimator-id-5\" class=\"sk-toggleable__label fitted sk-toggleable__label-arrow fitted\">best_estimator_: RandomForestClassifier</label><div class=\"sk-toggleable__content fitted\"><pre>RandomForestClassifier(max_depth=60, n_estimators=1200, n_jobs=2)</pre></div> </div></div><div class=\"sk-serial\"><div class=\"sk-item\"><div class=\"sk-estimator fitted sk-toggleable\"><input class=\"sk-toggleable__control sk-hidden--visually\" id=\"sk-estimator-id-6\" type=\"checkbox\" ><label for=\"sk-estimator-id-6\" class=\"sk-toggleable__label fitted sk-toggleable__label-arrow fitted\">&nbsp;RandomForestClassifier<a class=\"sk-estimator-doc-link fitted\" rel=\"noreferrer\" target=\"_blank\" href=\"https://scikit-learn.org/1.5/modules/generated/sklearn.ensemble.RandomForestClassifier.html\">?<span>Documentation for RandomForestClassifier</span></a></label><div class=\"sk-toggleable__content fitted\"><pre>RandomForestClassifier(max_depth=60, n_estimators=1200, n_jobs=2)</pre></div> </div></div></div></div></div></div></div></div></div>"
      ],
      "text/plain": [
       "RandomizedSearchCV(cv=3, estimator=RandomForestClassifier(n_jobs=2), n_jobs=-1,\n",
       "                   param_distributions={'bootstrap': [True, False],\n",
       "                                        'max_depth': [10, 20, 30, 40, 50, 60,\n",
       "                                                      70, 80, 90, 100, None],\n",
       "                                        'max_features': ['sqrt', 'log2'],\n",
       "                                        'min_samples_leaf': [1, 2, 4],\n",
       "                                        'min_samples_split': [2, 5, 10],\n",
       "                                        'n_estimators': [200, 400, 600, 800,\n",
       "                                                         1000, 1200, 1400, 1600,\n",
       "                                                         1800, 2000]},\n",
       "                   random_state=1, verbose=2)"
      ]
     },
     "execution_count": 21,
     "metadata": {},
     "output_type": "execute_result"
    }
   ],
   "source": [
    "# Use the random grid to search for best hyperparameters\n",
    "from sklearn.model_selection import RandomizedSearchCV\n",
    "\n",
    "# We have already created the base model to tune\n",
    "# rf = RandomForestClassifier(n_jobs=2)\n",
    "\n",
    "# Random search of parameters, using 3 fold cross validation\n",
    "rf_random = RandomizedSearchCV(estimator = rf, param_distributions = random_grid, n_iter = 10, cv = 3, verbose=2, random_state=1, n_jobs = -1)\n",
    "\n",
    "# Fit the random search model\n",
    "rf_random.fit(X_train, y_train)"
   ]
  },
  {
   "cell_type": "code",
   "execution_count": null,
   "metadata": {
    "colab": {
     "base_uri": "https://localhost:8080/"
    },
    "id": "WW6mzbay9PhJ",
    "outputId": "d21fb77d-f213-411a-b3bd-154173cf01fa"
   },
   "outputs": [
    {
     "data": {
      "text/plain": [
       "{'n_estimators': 1200,\n",
       " 'min_samples_split': 2,\n",
       " 'min_samples_leaf': 1,\n",
       " 'max_features': 'sqrt',\n",
       " 'max_depth': 60,\n",
       " 'bootstrap': True}"
      ]
     },
     "execution_count": 22,
     "metadata": {},
     "output_type": "execute_result"
    }
   ],
   "source": [
    "#  hyperparameters picked for the model\n",
    "rf_random.best_params_"
   ]
  },
  {
   "cell_type": "code",
   "execution_count": null,
   "metadata": {
    "id": "jOh_A3rD9Wo1"
   },
   "outputs": [],
   "source": [
    "\n",
    "predicted = rf_random.predict(X_test)"
   ]
  },
  {
   "cell_type": "code",
   "execution_count": null,
   "metadata": {
    "colab": {
     "base_uri": "https://localhost:8080/",
     "height": 467
    },
    "id": "vBxiCbRL9agw",
    "outputId": "e766fe81-e3bb-4728-aa10-25c1781a01bf"
   },
   "outputs": [
    {
     "name": "stdout",
     "output_type": "stream",
     "text": [
      "CONFUSION MATRIX _ RANDOM FOREST:\n"
     ]
    },
    {
     "data": {
      "image/png": "[encoded data removed]",
      "text/plain": [
       "<Figure size 640x480 with 2 Axes>"
      ]
     },
     "metadata": {},
     "output_type": "display_data"
    }
   ],
   "source": [
    "from sklearn.metrics import classification_report, accuracy_score, ConfusionMatrixDisplay\n",
    "\n",
    "#confusion matrix\n",
    "print('CONFUSION MATRIX _ RANDOM FOREST:')\n",
    "#disp=plot_confusion_matrix(rf_random, X_test, y_test)\n",
    "disp = ConfusionMatrixDisplay.from_estimator(rf_random, X_test, y_test)\n",
    "plt.show()"
   ]
  },
  {
   "cell_type": "code",
   "execution_count": 26,
   "metadata": {
    "colab": {
     "base_uri": "https://localhost:8080/"
    },
    "id": "HBKDy1lZ9gol",
    "outputId": "984095c0-1bb8-4059-c55b-602e6aa8b082"
   },
   "outputs": [
    {
     "name": "stdout",
     "output_type": "stream",
     "text": [
      "CLASSIFICATION REPORT _ RANDOM FOREST:\n",
      "\n",
      "               precision    recall  f1-score   support\n",
      "\n",
      "           0       0.90      0.93      0.92        60\n",
      "           1       0.98      0.92      0.95        60\n",
      "           2       0.94      0.98      0.96        60\n",
      "           3       0.88      0.88      0.88        60\n",
      "           4       0.95      1.00      0.98        60\n",
      "           5       0.97      0.97      0.97        60\n",
      "           6       0.96      0.88      0.92        60\n",
      "           7       0.95      0.95      0.95        60\n",
      "           8       0.97      0.97      0.97        60\n",
      "           9       0.93      0.95      0.94        60\n",
      "\n",
      "    accuracy                           0.94       600\n",
      "   macro avg       0.94      0.94      0.94       600\n",
      "weighted avg       0.94      0.94      0.94       600\n",
      "\n",
      "Accuracy:\n",
      " 0.9433333333333334\n"
     ]
    }
   ],
   "source": [
    "#classification report\n",
    "print('CLASSIFICATION REPORT _ RANDOM FOREST:\\n\\n',classification_report(y_test,predicted))\n",
    "print('Accuracy:\\n',accuracy_score(y_test, predicted))"
   ]
  },
  {
   "cell_type": "code",
   "execution_count": null,
   "metadata": {
    "colab": {
     "base_uri": "https://localhost:8080/"
    },
    "id": "FT40Ziy39nRe",
    "outputId": "47f5b196-1b9c-49c4-d4fa-fba42b0eb00f"
   },
   "outputs": [
    {
     "name": "stdout",
     "output_type": "stream",
     "text": [
      "The label for this sample in y_test is 8\n",
      "The random forest predicted for it 8\n",
      "Each class got these probabilities: [0.01666667 0.00416667 0.0025     0.09166667 0.00333333 0.01666667\n",
      " 0.08916667 0.00083333 0.76833333 0.00666667]\n"
     ]
    }
   ],
   "source": [
    "\n",
    "print(\"The label for this sample in y_test is {}\".format((y_test)[60]))\n",
    "print(\"The random forest predicted for it {}\".format((predicted[60])))\n",
    "a = rf_random.predict_proba(X_test)\n",
    "print(\"Each class got these probabilities: {}\".format(a[60]))"
   ]
  },
  {
   "cell_type": "code",
   "execution_count": null,
   "metadata": {},
   "outputs": [
    {
     "name": "stdout",
     "output_type": "stream",
     "text": [
      "Fitting 3 folds for each of 1080 candidates, totalling 3240 fits\n"
     ]
    }
   ],
   "source": [
    "from sklearn.model_selection import GridSearchCV\n",
    "\n",
    "# Defining the parameter grid for GridSearch\n",
    "param_grid = {\n",
    "    'n_estimators': [200, 500, 1000, 1500],  # Number of trees\n",
    "    'max_features': ['auto', 'sqrt', 'log2'],  # Number of features to consider at each split\n",
    "    'max_depth': [10, 20, 30, 50, None],      # Maximum depth of the tree\n",
    "    'min_samples_split': [2, 5, 10],          # Minimum samples required to split a node\n",
    "    'min_samples_leaf': [1, 2, 4],            # Minimum samples required at each leaf node\n",
    "    'bootstrap': [True, False]                # Method for sampling data\n",
    "}\n",
    "\n",
    "\n",
    "rf = RandomForestClassifier(n_jobs=2)\n",
    "\n",
    "\n",
    "grid_search = GridSearchCV(estimator=rf, param_grid=param_grid, cv=3, n_jobs=-1, verbose=2)\n",
    "\n",
    "\n",
    "grid_search.fit(X_train, y_train)\n",
    "\n",
    "\n",
    "print(\"Best Hyperparameters:\", grid_search.best_params_)\n",
    "print(\"Best Cross-Validation Score: {:.4f}\".format(grid_search.best_score_))\n",
    "\n",
    "\n",
    "best_rf_model = grid_search.best_estimator_\n",
    "predicted = best_rf_model.predict(X_test)\n",
    "\n",
    "\n",
    "from sklearn.metrics import classification_report, accuracy_score\n",
    "print('CLASSIFICATION REPORT _ RANDOM FOREST (with GridSearchCV):\\n\\n', classification_report(y_test, predicted))\n",
    "print('Accuracy: {:.4f}'.format(accuracy_score(y_test, predicted)))\n"
   ]
  },
  {
   "cell_type": "code",
   "execution_count": null,
   "metadata": {},
   "outputs": [
    {
     "name": "stdout",
     "output_type": "stream",
     "text": [
      "Class Label to Spoken Digit Mapping:\n",
      "Class 0 --> Spoken Digit: 'zero'\n",
      "Class 1 --> Spoken Digit: 'one'\n",
      "Class 2 --> Spoken Digit: 'two'\n",
      "Class 3 --> Spoken Digit: 'three'\n",
      "Class 4 --> Spoken Digit: 'four'\n",
      "Class 5 --> Spoken Digit: 'five'\n",
      "Class 6 --> Spoken Digit: 'six'\n",
      "Class 7 --> Spoken Digit: 'seven'\n",
      "Class 8 --> Spoken Digit: 'eight'\n",
      "Class 9 --> Spoken Digit: 'nine'\n"
     ]
    }
   ],
   "source": [
    "\n",
    "label_to_digit = {\n",
    "    0: \"zero\",\n",
    "    1: \"one\",\n",
    "    2: \"two\",\n",
    "    3: \"three\",\n",
    "    4: \"four\",\n",
    "    5: \"five\",\n",
    "    6: \"six\",\n",
    "    7: \"seven\",\n",
    "    8: \"eight\",\n",
    "    9: \"nine\"\n",
    "}\n",
    "\n",
    "\n",
    "print(\"Class Label to Spoken Digit Mapping:\")\n",
    "for label, digit in label_to_digit.items():\n",
    "    print(f\"Class {label} --> Spoken Digit: '{digit}'\")\n"
   ]
  },
  {
   "cell_type": "code",
   "execution_count": null,
   "metadata": {},
   "outputs": [
    {
     "name": "stdout",
     "output_type": "stream",
     "text": [
      "Predicted Class Label: 3\n",
      "Corresponding Spoken Digit: 'three'\n"
     ]
    }
   ],
   "source": [
    "# Mapping of class labels to digits\n",
    "label_to_digit = {\n",
    "    0: \"zero\",\n",
    "    1: \"one\",\n",
    "    2: \"two\",\n",
    "    3: \"three\",\n",
    "    4: \"four\",\n",
    "    5: \"five\",\n",
    "    6: \"six\",\n",
    "    7: \"seven\",\n",
    "    8: \"eight\",\n",
    "    9: \"nine\"\n",
    "}\n",
    "\n",
    "\n",
    "def show_prediction_details(predicted_label):\n",
    "    if predicted_label in label_to_digit:\n",
    "        print(f\"Predicted Class Label: {predicted_label}\")\n",
    "        print(f\"Corresponding Spoken Digit: '{label_to_digit[predicted_label]}'\")\n",
    "    else:\n",
    "        print(\"Invalid class label!\")\n",
    "\n",
    "# Example \n",
    "predicted_label = 3  \n",
    "show_prediction_details(predicted_label)\n"
   ]
  },
  {
   "cell_type": "code",
   "execution_count": null,
   "metadata": {},
   "outputs": [
    {
     "name": "stdout",
     "output_type": "stream",
     "text": [
      "Fitting 3 folds for each of 10 candidates, totalling 30 fits\n",
      "The label for this sample in y_test is 8\n",
      "The random forest predicted for it 8\n",
      "Each class got these probabilities: [0.025      0.00333333 0.00416667 0.105      0.00416667 0.01\n",
      " 0.09583333 0.00416667 0.74083333 0.0075    ]\n"
     ]
    }
   ],
   "source": [
    "\n",
    "from sklearn.ensemble import RandomForestClassifier\n",
    "from sklearn.model_selection import RandomizedSearchCV\n",
    "\n",
    "# Number of trees in random forest\n",
    "n_estimators = [200, 400, 600, 800, 1000, 1200, 1400, 1600, 1800, 2000]\n",
    "\n",
    "# Number of features to consider at every split\n",
    "max_features = ['sqrt', 'log2']   # corrected here\n",
    "\n",
    "# Maximum number of levels in tree\n",
    "max_depth = [10, 20, 30, 40, 50, 60, 70, 80, 90, 100, None]\n",
    "\n",
    "# Minimum number of samples required to split a node\n",
    "min_samples_split = [2, 5, 10]\n",
    "\n",
    "# Minimum number of samples required at each leaf node\n",
    "min_samples_leaf = [1, 2, 4]\n",
    "\n",
    "# Method of selecting samples for training each tree\n",
    "bootstrap = [True, False]\n",
    "\n",
    "# Create the random grid\n",
    "random_grid = {\n",
    "    'n_estimators': n_estimators,\n",
    "    'max_features': max_features,\n",
    "    'max_depth': max_depth,\n",
    "    'min_samples_split': min_samples_split,\n",
    "    'min_samples_leaf': min_samples_leaf,\n",
    "    'bootstrap': bootstrap\n",
    "}\n",
    "\n",
    "\n",
    "rf = RandomForestClassifier(n_jobs=-1)\n",
    "\n",
    "# Random search of parameters, using 3-fold cross-validation\n",
    "rf_random = RandomizedSearchCV(\n",
    "    estimator=rf,\n",
    "    param_distributions=random_grid,\n",
    "    n_iter=10,\n",
    "    cv=3,\n",
    "    verbose=2,\n",
    "    random_state=1,\n",
    "    n_jobs=-1\n",
    ")\n",
    "\n",
    "# Fit the random search model\n",
    "rf_random.fit(X_train, y_train)\n",
    "\n",
    "# Now predicting\n",
    "predicted = rf_random.predict(X_test)\n",
    "\n",
    "# Printing the requested outputs\n",
    "print(\"The label for this sample in y_test is {}\".format(y_test[60]))\n",
    "print(\"The random forest predicted for it {}\".format(predicted[60]))\n",
    "\n",
    "# Get prediction probabilities\n",
    "proba = rf_random.predict_proba(X_test)\n",
    "print(\"Each class got these probabilities: {}\".format(proba[60]))\n"
   ]
  },
  {
   "cell_type": "code",
   "execution_count": null,
   "metadata": {},
   "outputs": [],
   "source": [
    "\n",
    "\n"
   ]
  },
  {
   "cell_type": "code",
   "execution_count": null,
   "metadata": {},
   "outputs": [],
   "source": []
  }
 ],
 "metadata": {
  "colab": {
   "provenance": []
  },
  "kernelspec": {
   "display_name": "Python 3 (ipykernel)",
   "language": "python",
   "name": "python3"
  },
  "language_info": {
   "codemirror_mode": {
    "name": "ipython",
    "version": 3
   },
   "file_extension": ".py",
   "mimetype": "text/x-python",
   "name": "python",
   "nbconvert_exporter": "python",
   "pygments_lexer": "ipython3",
   "version": "3.12.6"
  }
 },
 "nbformat": 4,
 "nbformat_minor": 4
}
